{
 "cells": [
  {
   "cell_type": "markdown",
   "id": "a0420f5b",
   "metadata": {},
   "source": [
    "\n",
    "### Atividade Prática 3 - MongoDB e BCB API\n",
    "\n",
    "1. Extrair os dados da API do Banco Central (Atividades 3 e 4).\n",
    "\n",
    "2. Criar um banco de dados no MongoDB Atlas e as respectivas \n",
    "coleções para armazenar os recursos retornados pela API.\n",
    "\n",
    "3. Inserir no banco e nas coleções criadas os dados extraídos da API.\n",
    "\n",
    "O MongoDB é um banco orientado a documentos, \n",
    "então os registros estão em formato JSON.\n",
    "\n",
    "- Retorna os boletins diários com a Paridade de Compra e a Paridade de Venda, a Cotação de Compra e a Cotação de Venda para um período da moeda consultada. São cinco boletins para cada data, um de abertura, três intermediários e um de fechamento.\n",
    "\n",
    "*Parâmetros*\n",
    "\n",
    "| Nome              | Tipo     | Título        | Descrição                                                                                                                                                                |\n",
    "|-------------------|----------|---------------|---------------------------------------------------------------------------------------------------------------------------------------------------------------------------|\n",
    "| moeda             | texto    | Moeda         | Código texto da moeda cujas cotações e paridades serão consultadas. Formato - MMM: Três letras. Exemplo: EUR. As moedas disponíveis podem ser consultadas no recurso 'Moedas'. |\n",
    "| dataInicial       | texto    | Data inicial  | Data de início do período de cotação - informar no padrão 'MM-DD-AAAA'.                                                                                                   |\n",
    "| dataFinalCotacao  | texto    | Data final    | Data de fim do período de cotação - informar no padrão 'MM-DD-AAAA'.                                                                                                      |\n",
    "| $format           | texto    | $format       | Tipo de conteúdo que será retornado.                                                                                                                                      |\n",
    "| $select           | texto    | $select       | Propriedades que serão retornadas.                                                                                                                                        |\n",
    "| $filter           | texto    | $filter       | Filtro de seleção de entidades. e.g. Nome eq 'João'. Clique aqui para as opções de operadores e funções.                                                                 |\n",
    "| $orderby          | texto    | $orderby      | Propriedades para ordenação das entidades. e.g. Nome asc, Idade desc.                                                                                                     |\n",
    "| $skip             | inteiro  | $skip         | Índice (maior ou igual a zero) da primeira entidade que será retornada.                                                                                                   |\n",
    "| $top              | inteiro  | $top          | Número máximo (maior que zero) de entidades que serão retornadas.                                                                                                         |\n",
    "\n",
    "\n",
    "*Resultado*\n",
    "\n",
    "| Nome             | Tipo    | Título                | Descrição                                                                                                                                                        |\n",
    "|------------------|---------|------------------------|--------------------------------------------------------------------------------------------------------------------------------------------------------------------|\n",
    "| paridadeCompra   | decimal | Paridade de compra     | Paridade de compra da moeda consultada contra o dólar: Moedas tipo A: USD/[moeda]. Moedas tipo B: [moeda]/USD.                                                   |\n",
    "| paridadeVenda    | decimal | Paridade de venda      | Paridade de venda da moeda consultada contra o dólar: Moedas tipo A: USD/[moeda]. Moedas tipo B: [moeda]/USD.                                                    |\n",
    "| cotacaoCompra    | decimal | Cotação de compra      | Cotação de compra da moeda consultada contra a unidade monetária corrente: unidade monetária corrente/[moeda].                                                    |\n",
    "| cotacaoVenda     | decimal | Cotação de venda       | Cotação de venda da moeda consultada contra a unidade monetária corrente: unidade monetária corrente/[moeda].                                                     |\n",
    "| dataHoraCotacao  | texto   | Data e hora da cotação | Data, hora e minuto das paridades e cotações.                                                                                                                      |\n",
    "| tipoBoletim      | texto   | Tipo do boletim        | Tipo das paridades e cotações para aquela data e hora. Podem ser dos tipos: Abertura, Intermediário, Fechamento Interbancário ou Fechamento.                     |\n",
    "\n",
    "\n"
   ]
  },
  {
   "cell_type": "code",
   "execution_count": 37,
   "id": "fdaaf8d6",
   "metadata": {},
   "outputs": [],
   "source": [
    "import requests\n",
    "import json\n",
    "import pymongo\n",
    "import pandas as pd"
   ]
  },
  {
   "cell_type": "code",
   "execution_count": 38,
   "id": "a1923774",
   "metadata": {},
   "outputs": [],
   "source": [
    "from pymongo import MongoClient"
   ]
  },
  {
   "cell_type": "markdown",
   "id": "dad7cc8a",
   "metadata": {},
   "source": [
    "### 1. Conectando ao MongoDB Atlas\n",
    "1. Entrar no MongoDB Atlas;\n",
    "2. Criar um Cluster gratuito (se ainda não tiver);\n",
    "3. Clicar em Connect > Connect your application."
   ]
  },
  {
   "cell_type": "code",
   "execution_count": null,
   "id": "1b76d1f5",
   "metadata": {},
   "outputs": [],
   "source": [
    "# Colar aqui a string de conexão do Atlas: NÃO COMPARTILHE SEU USUÁRIO E SENHA PELO AMOR DE ODIN\n",
    "MONGO_URI = \"\"\n",
    "\n",
    "# Criar conexão\n",
    "client = MongoClient(MONGO_URI)"
   ]
  },
  {
   "cell_type": "markdown",
   "id": "5a331845",
   "metadata": {},
   "source": [
    "### 2. Definindo URL para requisição da API"
   ]
  },
  {
   "cell_type": "code",
   "execution_count": 40,
   "id": "3a2676cd",
   "metadata": {},
   "outputs": [],
   "source": [
    "url = \"https://olinda.bcb.gov.br/olinda/servico/PTAX/versao/v1/odata/CotacaoMoedaPeriodo(moeda=@moeda,dataInicial=@dataInicial,dataFinalCotacao=@dataFinalCotacao)?@moeda='USD'&@dataInicial='01-01-2023'&@dataFinalCotacao='09-01-2025'&$top=1000&$format=json&$select=paridadeCompra,paridadeVenda,cotacaoCompra,cotacaoVenda,dataHoraCotacao,tipoBoletim\""
   ]
  },
  {
   "cell_type": "markdown",
   "id": "eb28ca03",
   "metadata": {},
   "source": [
    "### 3. Criando a função para fazer a requisição e salvar o JSON na pasta Datasets"
   ]
  },
  {
   "cell_type": "code",
   "execution_count": 41,
   "id": "6d0f95a5",
   "metadata": {},
   "outputs": [],
   "source": [
    "def requisicao_api(link):\n",
    "  resposta = requests.get(link)\n",
    "\n",
    "  if resposta.status_code == 200:      #sucesso na requisição\n",
    "    dados = resposta.json()\n",
    "    print('Status Code:', resposta.status_code)\n",
    "    with open('datasets/usdPeriodo.json', 'w', encoding='utf-8') as arquivo:   #salvar arquivo json\n",
    "      json.dump(dados, arquivo, ensure_ascii=False, indent=4)\n",
    "\n",
    "  else:\n",
    "    print('Status Code:', resposta.status_code)"
   ]
  },
  {
   "cell_type": "markdown",
   "id": "08502aea",
   "metadata": {},
   "source": [
    "### 4. Executando a função para buscar os dados"
   ]
  },
  {
   "cell_type": "code",
   "execution_count": 42,
   "id": "a1d2b68c",
   "metadata": {},
   "outputs": [
    {
     "name": "stdout",
     "output_type": "stream",
     "text": [
      "Status Code: 200\n"
     ]
    }
   ],
   "source": [
    "requisicao_api (url)"
   ]
  },
  {
   "cell_type": "markdown",
   "id": "9a954888",
   "metadata": {},
   "source": [
    "### 5. Lendo o arquivo JSON salvo e transformando em DataFrame"
   ]
  },
  {
   "cell_type": "code",
   "execution_count": 43,
   "id": "2ba2d9f7",
   "metadata": {},
   "outputs": [],
   "source": [
    "jsondata = pd.read_json('datasets/usdPeriodo.json')\n",
    "\n",
    "dados_df = pd.json_normalize(jsondata['value'])"
   ]
  },
  {
   "cell_type": "markdown",
   "id": "c2e893d0",
   "metadata": {},
   "source": [
    "### 6. Visualizando as primeiras linhas do DataFrame"
   ]
  },
  {
   "cell_type": "code",
   "execution_count": 44,
   "id": "a3e11a8e",
   "metadata": {},
   "outputs": [
    {
     "data": {
      "text/html": [
       "<div>\n",
       "<style scoped>\n",
       "    .dataframe tbody tr th:only-of-type {\n",
       "        vertical-align: middle;\n",
       "    }\n",
       "\n",
       "    .dataframe tbody tr th {\n",
       "        vertical-align: top;\n",
       "    }\n",
       "\n",
       "    .dataframe thead th {\n",
       "        text-align: right;\n",
       "    }\n",
       "</style>\n",
       "<table border=\"1\" class=\"dataframe\">\n",
       "  <thead>\n",
       "    <tr style=\"text-align: right;\">\n",
       "      <th></th>\n",
       "      <th>paridadeCompra</th>\n",
       "      <th>paridadeVenda</th>\n",
       "      <th>cotacaoCompra</th>\n",
       "      <th>cotacaoVenda</th>\n",
       "      <th>dataHoraCotacao</th>\n",
       "      <th>tipoBoletim</th>\n",
       "    </tr>\n",
       "  </thead>\n",
       "  <tbody>\n",
       "    <tr>\n",
       "      <th>0</th>\n",
       "      <td>1.0</td>\n",
       "      <td>1.0</td>\n",
       "      <td>5.3355</td>\n",
       "      <td>5.3361</td>\n",
       "      <td>2023-01-02 10:11:18.511</td>\n",
       "      <td>Abertura</td>\n",
       "    </tr>\n",
       "    <tr>\n",
       "      <th>1</th>\n",
       "      <td>1.0</td>\n",
       "      <td>1.0</td>\n",
       "      <td>5.3538</td>\n",
       "      <td>5.3544</td>\n",
       "      <td>2023-01-02 11:05:17.032</td>\n",
       "      <td>Intermediário</td>\n",
       "    </tr>\n",
       "    <tr>\n",
       "      <th>2</th>\n",
       "      <td>1.0</td>\n",
       "      <td>1.0</td>\n",
       "      <td>5.3466</td>\n",
       "      <td>5.3472</td>\n",
       "      <td>2023-01-02 12:10:16.594</td>\n",
       "      <td>Intermediário</td>\n",
       "    </tr>\n",
       "    <tr>\n",
       "      <th>3</th>\n",
       "      <td>1.0</td>\n",
       "      <td>1.0</td>\n",
       "      <td>5.3361</td>\n",
       "      <td>5.3367</td>\n",
       "      <td>2023-01-02 13:05:57.582</td>\n",
       "      <td>Intermediário</td>\n",
       "    </tr>\n",
       "    <tr>\n",
       "      <th>4</th>\n",
       "      <td>1.0</td>\n",
       "      <td>1.0</td>\n",
       "      <td>5.3430</td>\n",
       "      <td>5.3436</td>\n",
       "      <td>2023-01-02 13:05:57.593</td>\n",
       "      <td>Fechamento</td>\n",
       "    </tr>\n",
       "  </tbody>\n",
       "</table>\n",
       "</div>"
      ],
      "text/plain": [
       "   paridadeCompra  paridadeVenda  cotacaoCompra  cotacaoVenda  \\\n",
       "0             1.0            1.0         5.3355        5.3361   \n",
       "1             1.0            1.0         5.3538        5.3544   \n",
       "2             1.0            1.0         5.3466        5.3472   \n",
       "3             1.0            1.0         5.3361        5.3367   \n",
       "4             1.0            1.0         5.3430        5.3436   \n",
       "\n",
       "           dataHoraCotacao    tipoBoletim  \n",
       "0  2023-01-02 10:11:18.511       Abertura  \n",
       "1  2023-01-02 11:05:17.032  Intermediário  \n",
       "2  2023-01-02 12:10:16.594  Intermediário  \n",
       "3  2023-01-02 13:05:57.582  Intermediário  \n",
       "4  2023-01-02 13:05:57.593     Fechamento  "
      ]
     },
     "execution_count": 44,
     "metadata": {},
     "output_type": "execute_result"
    }
   ],
   "source": [
    "dados_df.head()"
   ]
  },
  {
   "cell_type": "markdown",
   "id": "0132002f",
   "metadata": {},
   "source": [
    "### 7. Função para salvar o JSON numa Coleção MongoDB Atlas"
   ]
  },
  {
   "cell_type": "code",
   "execution_count": 45,
   "id": "afaa1548",
   "metadata": {},
   "outputs": [
    {
     "name": "stdout",
     "output_type": "stream",
     "text": [
      "1000 registros inseridos na coleção.\n"
     ]
    }
   ],
   "source": [
    "db = client['big_data_cambio']  # Criar banco de dados\n",
    "colecao = db['big_data_cambio']  # Criar a coleção\n",
    "\n",
    "def salvar_mongodb(dados):\n",
    "    registros = dados.to_dict(orient='records')  # Converter DataFrame para lista de dicionários\n",
    "    colecao.insert_many(registros)  # Inserir múltiplos documentos na coleção\n",
    "    print(f'{len(registros)} registros inseridos na coleção.')\n",
    "salvar_mongodb(dados_df)"
   ]
  }
 ],
 "metadata": {
  "kernelspec": {
   "display_name": ".venv (3.13.7)",
   "language": "python",
   "name": "python3"
  },
  "language_info": {
   "codemirror_mode": {
    "name": "ipython",
    "version": 3
   },
   "file_extension": ".py",
   "mimetype": "text/x-python",
   "name": "python",
   "nbconvert_exporter": "python",
   "pygments_lexer": "ipython3",
   "version": "3.13.7"
  }
 },
 "nbformat": 4,
 "nbformat_minor": 5
}
